{
 "cells": [
  {
   "cell_type": "code",
   "execution_count": 1,
   "id": "0d22606a-3586-42ad-927d-7fe91ba34b95",
   "metadata": {},
   "outputs": [
    {
     "name": "stdout",
     "output_type": "stream",
     "text": [
      "Requirement already satisfied: numpy in c:\\users\\haider imam\\anaconda3\\lib\\site-packages (1.26.4)\n"
     ]
    }
   ],
   "source": [
    "!pip install numpy"
   ]
  },
  {
   "cell_type": "code",
   "execution_count": 3,
   "id": "8bcc97af-e764-4560-8ba9-0e02f232bbee",
   "metadata": {},
   "outputs": [
    {
     "name": "stdout",
     "output_type": "stream",
     "text": [
      "[1 2 3 4 5]\n"
     ]
    }
   ],
   "source": [
    "import numpy as np\n",
    "arr=np.array([1,2,3,4,5])\n",
    "print(arr)"
   ]
  },
  {
   "cell_type": "code",
   "execution_count": 7,
   "id": "09339484-073b-4576-a94a-a0072e3ef0e2",
   "metadata": {},
   "outputs": [
    {
     "name": "stdout",
     "output_type": "stream",
     "text": [
      "[1 2 3 4 5]\n"
     ]
    }
   ],
   "source": [
    "import numpy as np\n",
    "arr=np.array([1,2,3,4,5])\n",
    "print(arr)"
   ]
  },
  {
   "cell_type": "code",
   "execution_count": 9,
   "id": "c3117942-e19e-4e2f-82b1-6c2823aa01d6",
   "metadata": {},
   "outputs": [
    {
     "name": "stdout",
     "output_type": "stream",
     "text": [
      "1.26.4\n"
     ]
    }
   ],
   "source": [
    "print(np.__version__)"
   ]
  },
  {
   "cell_type": "code",
   "execution_count": 11,
   "id": "08a9d8f3-2a28-448f-aad9-8a1926f92d34",
   "metadata": {},
   "outputs": [
    {
     "name": "stdout",
     "output_type": "stream",
     "text": [
      "[1 3 5 7 9]\n",
      "<class 'numpy.ndarray'>\n"
     ]
    }
   ],
   "source": [
    "arr3=np.array([1,3,5,7,9])\n",
    "print(arr3)\n",
    "print(type(arr3))"
   ]
  },
  {
   "cell_type": "code",
   "execution_count": 13,
   "id": "bc84216d-9478-4c2a-9943-8f28bbd1e06e",
   "metadata": {},
   "outputs": [
    {
     "name": "stdout",
     "output_type": "stream",
     "text": [
      "list [1 2 3 4 5] set [2 4 5 6 7] tuple [1 3 5 7 9]\n",
      "<class 'numpy.ndarray'>\n",
      "<class 'numpy.ndarray'>\n",
      "<class 'numpy.ndarray'>\n"
     ]
    }
   ],
   "source": [
    "import numpy as np\n",
    "list= np.array([1,2,3,4,5])\n",
    "set= np.array([2,4,5,6,7])\n",
    "tuple= np.array([1,3,5,7,9])\n",
    "print('list',list,'set',set,'tuple',tuple,)\n",
    "print(type(list))\n",
    "print(type(set))\n",
    "print(type(tuple))"
   ]
  },
  {
   "cell_type": "code",
   "execution_count": 11,
   "id": "a168ceca-1b00-4020-967d-23bac0cb24ec",
   "metadata": {},
   "outputs": [
    {
     "name": "stdout",
     "output_type": "stream",
     "text": [
      "43\n",
      "0\n",
      "[[1 2 3 4]\n",
      " [1 2 3 5]]\n",
      "2\n",
      "[[[1 2 3]\n",
      "  [1 2 3]\n",
      "  [2 4 5]]]\n",
      "3\n"
     ]
    }
   ],
   "source": [
    "# dimensions 0D array\n",
    "import numpy as np\n",
    "arr4=np.array(43)\n",
    "print(arr4)\n",
    "print(arr4.ndim)\n",
    "arr5=np.array([[1,2,3,4],[1,2,3,5]])\n",
    "print(arr5)\n",
    "print(arr5.ndim)\n",
    "arr6=np.array([[[1,2,3],[1,2,3],[2,4,5]]])\n",
    "print(arr6)\n",
    "print(arr6.ndim)\n"
   ]
  },
  {
   "cell_type": "code",
   "execution_count": 13,
   "id": "980f5c90-fbae-4062-be53-b892eb626c3c",
   "metadata": {},
   "outputs": [
    {
     "name": "stdout",
     "output_type": "stream",
     "text": [
      "[[[[[1 2 3 4 5]\n",
      "    [2 3 4 5 6]\n",
      "    [1 2 3 4 5]\n",
      "    [2 3 4 5 6]\n",
      "    [2 3 4 5 6]\n",
      "    [1 1 1 1 1]]]]]\n",
      "5\n"
     ]
    }
   ],
   "source": [
    "arr1=np.array([[[[[1,2,3,4,5],[2,3,4,5,6],[1,2,3,4,5],[2,3,4,5,6],[2,3,4,5,6],[1,1,1,1,1]]]]])\n",
    "print(arr1)\n",
    "print(arr1.ndim)"
   ]
  },
  {
   "cell_type": "code",
   "execution_count": 15,
   "id": "a654d765-ea6f-41b3-9f7c-a2ae9cc8c40a",
   "metadata": {},
   "outputs": [
    {
     "name": "stdout",
     "output_type": "stream",
     "text": [
      "1\n"
     ]
    }
   ],
   "source": [
    "arr4=np.array([1,2,3,4,5])\n",
    "print(arr4[0])"
   ]
  },
  {
   "cell_type": "code",
   "execution_count": 19,
   "id": "35b04a44-2238-4266-bdf5-9f670b05a0c9",
   "metadata": {},
   "outputs": [
    {
     "name": "stdout",
     "output_type": "stream",
     "text": [
      "[6 7]\n",
      "49\n",
      "2.8284271247461903\n"
     ]
    }
   ],
   "source": [
    "A1=np.array([4,5,6,7,8,9])\n",
    "print(A1[2:4])\n",
    "print(A1[3]**2)\n",
    "print(np.sqrt(A1[4]))"
   ]
  },
  {
   "cell_type": "code",
   "execution_count": 21,
   "id": "9bc4b3d0-4930-4ff0-9e7e-d4a455cb26b8",
   "metadata": {},
   "outputs": [
    {
     "name": "stdout",
     "output_type": "stream",
     "text": [
      "5th elementof 2 row 5\n"
     ]
    }
   ],
   "source": [
    "arr9 = np.array([[1,2,3,4],[1,2,3,5]])\n",
    "print(\"5th elementof 2 row\", arr9[1,3])"
   ]
  },
  {
   "cell_type": "code",
   "execution_count": 25,
   "id": "390d0496-1220-40a5-ab81-5b99bf1e9a60",
   "metadata": {},
   "outputs": [
    {
     "name": "stdout",
     "output_type": "stream",
     "text": [
      "[2 3]\n",
      "[3]\n"
     ]
    }
   ],
   "source": [
    "arr9 = np.array([[1,2,3,4],[1,2,3,5]])\n",
    "print(arr9[0,1:3])\n",
    "print(arr9[1,2:3])"
   ]
  },
  {
   "cell_type": "code",
   "execution_count": 27,
   "id": "3f050734-1aaf-4d0d-b095-da947169a128",
   "metadata": {},
   "outputs": [
    {
     "name": "stdout",
     "output_type": "stream",
     "text": [
      "[5 6 7]\n",
      "int32\n"
     ]
    }
   ],
   "source": [
    "B1=np.array([[[1,2,3,4,5],[2,2,2,2,2],[4,5,6,7,8]]])\n",
    "print(B1[0,2,1:4])\n",
    "print(B1.dtype)"
   ]
  },
  {
   "cell_type": "code",
   "execution_count": 31,
   "id": "a95a3d9f-3851-4dfe-b322-52cc4d8cfecb",
   "metadata": {},
   "outputs": [
    {
     "name": "stdout",
     "output_type": "stream",
     "text": [
      "[b'1' b'2' b'3' b'4' b'5']\n",
      "|S1\n"
     ]
    }
   ],
   "source": [
    "B1=np.array([1,2,3,4,5],dtype='S')\n",
    "print(B1)\n",
    "print(B1.dtype)"
   ]
  },
  {
   "cell_type": "code",
   "execution_count": 33,
   "id": "c01de610-78c1-446a-9645-3000b03e44dd",
   "metadata": {},
   "outputs": [
    {
     "name": "stdout",
     "output_type": "stream",
     "text": [
      "[1 2 3 4 5]\n",
      "int64\n"
     ]
    }
   ],
   "source": [
    "import numpy as np\n",
    "B1=np.array([1.2,2.4,3.5,4,5],dtype='i8')\n",
    "print(B1)\n",
    "print(B1.dtype)"
   ]
  },
  {
   "cell_type": "code",
   "execution_count": 35,
   "id": "8d35b02f-f11b-40e9-b7da-00cb4a4ad06d",
   "metadata": {},
   "outputs": [],
   "source": [
    "# !pip install (library name)--upgrade     (command for upgrading library)"
   ]
  },
  {
   "cell_type": "code",
   "execution_count": 37,
   "id": "0f0e0ae5-ebb6-4c96-aba6-36ee3c6cdda7",
   "metadata": {},
   "outputs": [
    {
     "name": "stdout",
     "output_type": "stream",
     "text": [
      "(1, 1, 4, 4)\n",
      "(1, 1, 4, 4)\n"
     ]
    }
   ],
   "source": [
    "# give shape to array\n",
    "import numpy as np\n",
    "arr=np.array([[[[1,2,3,4],[5,6,7,8],[1,2,3,4],[5,6,7,8]]]])\n",
    "print(arr.shape)\n",
    "arr1=np.array([1,2,3,4])\n",
    "print(arr.shape)"
   ]
  },
  {
   "cell_type": "code",
   "execution_count": 41,
   "id": "41c950d4-8dec-4d12-abb0-f6cf83dd2874",
   "metadata": {},
   "outputs": [
    {
     "name": "stdout",
     "output_type": "stream",
     "text": [
      "[[[[[1 2 3 4]]]]]\n",
      "The shape of array is: (1, 1, 1, 1, 4)\n"
     ]
    }
   ],
   "source": [
    "arr2=np.array([1,2,3,4],ndmin=5)\n",
    "print(arr2)\n",
    "print(\"The shape of array is:\",arr2.shape)"
   ]
  },
  {
   "cell_type": "code",
   "execution_count": 43,
   "id": "a826cda0-bf03-4598-bd78-208565390e82",
   "metadata": {},
   "outputs": [
    {
     "name": "stdout",
     "output_type": "stream",
     "text": [
      "[[1 2 3]\n",
      " [4 5 6]]\n"
     ]
    }
   ],
   "source": [
    "# reshaping of array\n",
    "Q=np.array([1,2,3,4,5,6])\n",
    "new_Q=Q.reshape(2,3)\n",
    "print(new_Q)"
   ]
  },
  {
   "cell_type": "code",
   "execution_count": 45,
   "id": "d54ffcc2-db9a-4834-9c53-0c49127cc182",
   "metadata": {},
   "outputs": [
    {
     "name": "stdout",
     "output_type": "stream",
     "text": [
      "[1 2 3 4 5 6 7 8]\n"
     ]
    }
   ],
   "source": [
    "R=np.array([1,2,3,4,5,6,7,8])\n",
    "print(R.reshape(2,4).base)"
   ]
  },
  {
   "cell_type": "code",
   "execution_count": 57,
   "id": "2d3b577f-bf13-493a-8689-80e1cc5effd7",
   "metadata": {},
   "outputs": [
    {
     "name": "stdout",
     "output_type": "stream",
     "text": [
      "1\n",
      "2\n",
      "3\n",
      "4\n"
     ]
    }
   ],
   "source": [
    "#iterating array 1D array\n",
    "Y=np.array([1,2,3,4])\n",
    "for x in Y:\n",
    "  print(x)"
   ]
  },
  {
   "cell_type": "code",
   "execution_count": 61,
   "id": "94514aa8-1238-4b0e-ab00-fa96a0fc7a34",
   "metadata": {},
   "outputs": [
    {
     "name": "stdout",
     "output_type": "stream",
     "text": [
      "1\n",
      "2\n",
      "3\n",
      "4\n",
      "5\n",
      "6\n",
      "7\n",
      "8\n",
      "5\n",
      "5\n",
      "5\n",
      "5\n"
     ]
    }
   ],
   "source": [
    "#2D array\n",
    "arr3=np.array([[[1,2,3,4],[5,6,7,8],[5,5,5,5]]])\n",
    "for x in arr3:\n",
    "    for y in x:\n",
    "       for z in y:\n",
    "         print(z)"
   ]
  },
  {
   "cell_type": "code",
   "execution_count": 65,
   "id": "29ec7c7c-dbfc-415d-bd28-f620018ce6c6",
   "metadata": {},
   "outputs": [
    {
     "name": "stdout",
     "output_type": "stream",
     "text": [
      "[1 2 3 4 5 6]\n",
      "[5 7 9]\n"
     ]
    }
   ],
   "source": [
    "#concatenate is used for two array\n",
    "A1=np.array([1,2,3])\n",
    "A2=np.array([4,5,6])\n",
    "C1=np.concatenate((A1,A2))\n",
    "print(C1)\n",
    "C2=A1+A2\n",
    "print(C2)"
   ]
  },
  {
   "cell_type": "code",
   "execution_count": 69,
   "id": "8f6ed678-38e8-4599-9b17-ec65952af6f9",
   "metadata": {},
   "outputs": [
    {
     "name": "stdout",
     "output_type": "stream",
     "text": [
      "[[1 2 5 6]\n",
      " [3 4 7 8]]\n",
      "[[[1 5]\n",
      "  [2 6]]\n",
      "\n",
      " [[3 7]\n",
      "  [4 8]]]\n"
     ]
    }
   ],
   "source": [
    "R1=np.array([[1,2],[3,4]])\n",
    "R2=np.array([[5,6],[7,8]])\n",
    "R3=np.concatenate((R1,R2),axis=1)\n",
    "print(R3)\n",
    "R1_new= np.expand_dims(R1,axis=2)\n",
    "R2_new= np.expand_dims(R2,axis=2)\n",
    "R4 = np.concatenate((R1_new, R2_new), axis=2)\n",
    "print(R4)"
   ]
  },
  {
   "cell_type": "code",
   "execution_count": 71,
   "id": "f705e67d-b22f-4988-89de-767433b173cf",
   "metadata": {},
   "outputs": [
    {
     "name": "stdout",
     "output_type": "stream",
     "text": [
      "[array([1]), array([2]), array([3]), array([4]), array([5]), array([], dtype=int32)]\n"
     ]
    }
   ],
   "source": [
    "# for splitting array we use (array_split) command\n",
    "R5=np.array([1,2,3,4,5])\n",
    "newR=np.array_split(R5,6)\n",
    "print(newR)"
   ]
  },
  {
   "cell_type": "code",
   "execution_count": 73,
   "id": "cc7cd3aa-b3c8-41e9-84d2-437610c4b17f",
   "metadata": {},
   "outputs": [
    {
     "name": "stdout",
     "output_type": "stream",
     "text": [
      "(array([0], dtype=int64), array([3], dtype=int64))\n",
      "(array([], dtype=int64),)\n"
     ]
    }
   ],
   "source": [
    "arr=np.array([1,2,3,4,5,4,4,4])\n",
    "x=np.where(arr9==4)\n",
    "print(x)\n",
    "x2=np.where(arr==6)\n",
    "print(x2)"
   ]
  },
  {
   "cell_type": "code",
   "execution_count": 75,
   "id": "26c9534d-1c87-499b-99b7-133764004bb1",
   "metadata": {},
   "outputs": [
    {
     "name": "stdout",
     "output_type": "stream",
     "text": [
      "(array([0, 2, 4, 6], dtype=int64),)\n"
     ]
    }
   ],
   "source": [
    "Q1=np.array([1,2,3,4,5,6,7,8])\n",
    "x5=np.where(Q1%2!=0)\n",
    "print(x5)"
   ]
  },
  {
   "cell_type": "code",
   "execution_count": 77,
   "id": "aab2279b-94c3-4db4-9e21-d12d99ca9305",
   "metadata": {},
   "outputs": [
    {
     "name": "stdout",
     "output_type": "stream",
     "text": [
      "[8 7 6 5 4 3 2 1]\n"
     ]
    }
   ],
   "source": [
    "Q1=np.array([1,2,3,4,5,6,7,8])\n",
    "print(np.sort(Q1)[::-1])"
   ]
  },
  {
   "cell_type": "code",
   "execution_count": 79,
   "id": "1e9c8d0d-2c77-4ad9-b63f-eda97e986842",
   "metadata": {},
   "outputs": [
    {
     "name": "stdout",
     "output_type": "stream",
     "text": [
      "[5 4 4 4 4 3 2 1]\n"
     ]
    }
   ],
   "source": [
    "Q1=np.array([1,2,3,4,5,4,4,4])\n",
    "print(np.sort(Q1)[::-1])"
   ]
  },
  {
   "cell_type": "code",
   "execution_count": 81,
   "id": "c58ff4f9-fe72-4aa0-b206-d347323a0c6f",
   "metadata": {},
   "outputs": [
    {
     "name": "stdout",
     "output_type": "stream",
     "text": [
      "['apple' 'banana' 'cherry']\n"
     ]
    }
   ],
   "source": [
    "Q7=np.array(['banana','cherry','apple'])\n",
    "x6=np.sort(Q7)\n",
    "print(x6)"
   ]
  },
  {
   "cell_type": "code",
   "execution_count": 83,
   "id": "92b96ba0-d191-478e-a8f5-7c48d3e2f51a",
   "metadata": {},
   "outputs": [
    {
     "name": "stdout",
     "output_type": "stream",
     "text": [
      "[41 42 44]\n"
     ]
    }
   ],
   "source": [
    "# filtering array\n",
    "Q9=np.array([41,42,43,44])\n",
    "x4=[True,True,False,True]\n",
    "new_Q9=Q9[x4]\n",
    "print(new_Q9)"
   ]
  },
  {
   "cell_type": "code",
   "execution_count": 85,
   "id": "25e2b8b3-0a6b-4393-b9b4-2fc1c93ba109",
   "metadata": {},
   "outputs": [
    {
     "name": "stdout",
     "output_type": "stream",
     "text": [
      "[False  True False  True False  True False  True False]\n"
     ]
    }
   ],
   "source": [
    "Q10=np.array([1,2,3,4,5,6,7,8,9])\n",
    "x7=Q10 % 2 ==0\n",
    "print(x7)"
   ]
  },
  {
   "cell_type": "code",
   "execution_count": null,
   "id": "147955b9-a48f-4f71-ac4b-90bda3994bcb",
   "metadata": {},
   "outputs": [],
   "source": []
  }
 ],
 "metadata": {
  "kernelspec": {
   "display_name": "Python 3 (ipykernel)",
   "language": "python",
   "name": "python3"
  },
  "language_info": {
   "codemirror_mode": {
    "name": "ipython",
    "version": 3
   },
   "file_extension": ".py",
   "mimetype": "text/x-python",
   "name": "python",
   "nbconvert_exporter": "python",
   "pygments_lexer": "ipython3",
   "version": "3.12.4"
  }
 },
 "nbformat": 4,
 "nbformat_minor": 5
}
